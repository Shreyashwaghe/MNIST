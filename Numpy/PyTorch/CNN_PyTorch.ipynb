{
 "cells": [
  {
   "cell_type": "code",
   "execution_count": 9,
   "metadata": {},
   "outputs": [],
   "source": [
    "import torch\n",
    "import torch.nn as nn\n",
    "import torch.nn.functional as F\n",
    "import torch.optim as optim\n",
    "\n",
    "import torchvision\n",
    "import torchvision.transforms as transforms\n",
    "\n",
    "import pandas as pd\n",
    "import matplotlib.pyplot as plt"
   ]
  },
  {
   "cell_type": "code",
   "execution_count": 10,
   "metadata": {},
   "outputs": [],
   "source": [
    "#load training data\n",
    "\n",
    "train_set = torchvision.datasets.MNIST(\n",
    "    root='./Data',\n",
    "    train=True,\n",
    "    download=True,\n",
    "    transform=transforms.Compose([transforms.ToTensor()])\n",
    ")\n"
   ]
  },
  {
   "cell_type": "code",
   "execution_count": 11,
   "metadata": {},
   "outputs": [],
   "source": [
    "#defining model sstructure\n",
    "\n",
    "class Network(nn.Module):\n",
    "    \n",
    "    def __init__(self):\n",
    "        super(Network, self).__init__()\n",
    "        self.conv1 = nn.Conv2d(in_channels=1, out_channels=8, kernel_size=3, stride=1, padding = 1)\n",
    "        self.conv2 = nn.Conv2d(in_channels=8, out_channels=16, kernel_size=3, stride=1, padding =1)\n",
    "        \n",
    "        self.fc1 = nn.Linear(7 * 7 * 16, 128)\n",
    "        self.fc2 = nn.Linear(128, 10)\n",
    "        \n",
    "        self.dropout = nn.Dropout(0.5)\n",
    "        \n",
    "    def forward(self, x):\n",
    "        \n",
    "        x = self.conv1(x)\n",
    "        x = F.relu(x)\n",
    "        x = F.max_pool2d(x, kernel_size=2, stride=2)\n",
    "        \n",
    "        x = self.conv2(x)\n",
    "        x = F.relu(x)\n",
    "        x = F.max_pool2d(x,kernel_size=2, stride=2)\n",
    "        \n",
    "        \n",
    "        x = x.view(-1, 7 * 7 * 16)\n",
    "        \n",
    "        x = self.fc1(x)\n",
    "        x = F.relu(x)\n",
    "        \n",
    "        x = self.fc2(x)\n",
    "        \n",
    "        return x\n",
    "    \n",
    "net = Network()"
   ]
  },
  {
   "cell_type": "code",
   "execution_count": 12,
   "metadata": {},
   "outputs": [
    {
     "name": "stdout",
     "output_type": "stream",
     "text": [
      "\n",
      " epoch: 0 total correct: 56771 cost: 101.90657008366543\n",
      "Accuracy: 0.9461833333333334 \n",
      "\n",
      "\n",
      " epoch: 1 total correct: 58899 cost: 36.01060640123433\n",
      "Accuracy: 0.98165 \n",
      "\n",
      "\n",
      " epoch: 2 total correct: 59106 cost: 29.03693664163984\n",
      "Accuracy: 0.9851 \n",
      "\n",
      "\n",
      " epoch: 3 total correct: 59222 cost: 24.880023571447964\n",
      "Accuracy: 0.9870333333333333 \n",
      "\n",
      "\n",
      " epoch: 4 total correct: 59234 cost: 23.714629508482176\n",
      "Accuracy: 0.9872333333333333 \n",
      "\n",
      "\n",
      " epoch: 5 total correct: 59321 cost: 21.607815568328988\n",
      "Accuracy: 0.9886833333333334 \n",
      "\n",
      "\n",
      " epoch: 6 total correct: 59403 cost: 20.049680449214577\n",
      "Accuracy: 0.99005 \n",
      "\n",
      "\n",
      " epoch: 7 total correct: 59435 cost: 19.469102660995304\n",
      "Accuracy: 0.9905833333333334 \n",
      "\n",
      "\n",
      " epoch: 8 total correct: 59423 cost: 19.942831760740773\n",
      "Accuracy: 0.9903833333333333 \n",
      "\n",
      "\n",
      " epoch: 9 total correct: 59525 cost: 16.68995471475273\n",
      "Accuracy: 0.9920833333333333 \n",
      "\n"
     ]
    },
    {
     "data": {
      "image/png": "[encoded data removed]",
      "text/plain": [
       "<Figure size 432x288 with 1 Axes>"
      ]
     },
     "metadata": {
      "needs_background": "light"
     },
     "output_type": "display_data"
    },
    {
     "data": {
      "image/png": "[encoded data removed]",
      "text/plain": [
       "<Figure size 432x288 with 1 Axes>"
      ]
     },
     "metadata": {
      "needs_background": "light"
     },
     "output_type": "display_data"
    }
   ],
   "source": [
    "epoch = 0\n",
    "Learning_rate =0.01 /(1 + 0.001* epoch)\n",
    "\n",
    "#making training batches\n",
    "train_loader = torch.utils.data.DataLoader(train_set, batch_size=100)\n",
    "#Using Adam potimizer\n",
    "optimizer = optim.Adam(net.parameters(), lr=Learning_rate)\n",
    "costs=[]\n",
    "accuracies=[]\n",
    "\n",
    "for epoch in range(10): #number of epoch\n",
    "    \n",
    "    total_cost = 0         #total cost of one full epoch\n",
    "    total_correct = 0      #total correct predictions in one full epoch\n",
    "    \n",
    "    for batch in train_loader:\n",
    "    \n",
    "        images, labels = batch    #images is input, labels is the expected output\n",
    "        \n",
    "        #predicts output taking batch of images as input by using the model Network defined above \n",
    "        preds = net(images)       \n",
    "        \n",
    "        #calculates cost of individual batch\n",
    "        cost = F.cross_entropy(preds,labels)\n",
    "        \n",
    "        \n",
    "        #print('iter:',epoch,'batch:',batch_count,'cost:',cost)\n",
    "        \n",
    "        optimizer.zero_grad()    #empty the gradients\n",
    "        cost.backward()          #calculates gradients\n",
    "        optimizer.step()         #updates parameters\n",
    "        \n",
    "        #for calculating total cost in one epoch\n",
    "        total_cost += cost.item()\n",
    "        \n",
    "        #for calculating total correct predictions in one epoch\n",
    "        total_correct += preds.argmax(dim=1).eq(labels).sum().item()\n",
    "        #print('\\n\\n pred',preds.argmax(dim =1),'label', labels)\n",
    "        \n",
    "    print('\\n epoch:',epoch,'total correct:',total_correct,'cost:',total_cost)\n",
    "    print('Accuracy:',total_correct/60000,'\\n')\n",
    "    costs.append(total_cost)\n",
    "    accuracies.append(total_correct/60000)\n",
    "    \n",
    "#plotting the cost and accuracies\n",
    "\n",
    "plt.plot(costs)\n",
    "plt.ylabel('total cost')\n",
    "plt.xlabel('iterations')\n",
    "plt.title(\"Learning rate =\" + str(Learning_rate))\n",
    "plt.show()\n",
    "\n",
    "plt.plot(accuracies)\n",
    "plt.ylabel('accuracy')\n",
    "plt.xlabel('iterations')\n",
    "plt.title(\"Learning rate =\" + str(Learning_rate))\n",
    "plt.show()"
   ]
  },
  {
   "cell_type": "code",
   "execution_count": null,
   "metadata": {},
   "outputs": [],
   "source": []
  },
  {
   "cell_type": "code",
   "execution_count": null,
   "metadata": {},
   "outputs": [],
   "source": []
  },
  {
   "cell_type": "code",
   "execution_count": null,
   "metadata": {},
   "outputs": [],
   "source": []
  },
  {
   "cell_type": "code",
   "execution_count": 13,
   "metadata": {},
   "outputs": [],
   "source": [
    "#use this to save the model and its parameters a file\n",
    "#ignore warning, if any\n",
    "\n",
    "torch.save(net,'./trained_mnist_model_CNN.pth' )\n"
   ]
  },
  {
   "cell_type": "code",
   "execution_count": 14,
   "metadata": {},
   "outputs": [],
   "source": [
    "#load test set\n",
    "test_set = torchvision.datasets.MNIST(\n",
    "    root='./Data',\n",
    "    train=False,\n",
    "    download=True,\n",
    "    transform=transforms.Compose([transforms.ToTensor()])\n",
    ")\n"
   ]
  },
  {
   "cell_type": "code",
   "execution_count": 15,
   "metadata": {},
   "outputs": [
    {
     "data": {
      "text/plain": [
       "Network(\n",
       "  (conv1): Conv2d(1, 8, kernel_size=(3, 3), stride=(1, 1), padding=(1, 1))\n",
       "  (conv2): Conv2d(8, 16, kernel_size=(3, 3), stride=(1, 1), padding=(1, 1))\n",
       "  (fc1): Linear(in_features=784, out_features=128, bias=True)\n",
       "  (fc2): Linear(in_features=128, out_features=10, bias=True)\n",
       "  (dropout): Dropout(p=0.5)\n",
       ")"
      ]
     },
     "execution_count": 15,
     "metadata": {},
     "output_type": "execute_result"
    }
   ],
   "source": [
    "#load the learned model\n",
    "net_test = torch.load('trained_mnist_model_CNN.pth')\n",
    "net_test.eval()"
   ]
  },
  {
   "cell_type": "code",
   "execution_count": 16,
   "metadata": {},
   "outputs": [
    {
     "name": "stdout",
     "output_type": "stream",
     "text": [
      "Accuracy: 0.9851 \n",
      "\n"
     ]
    }
   ],
   "source": [
    "#load a batch of test cases\n",
    "test_loader = torch.utils.data.DataLoader(test_set, batch_size=100)\n",
    "total_correct = 0\n",
    "\n",
    "for batch in test_loader:   #iterating over batches\n",
    "    \n",
    "    images, labels = batch\n",
    "    \n",
    "    preds = net_test(images.float())\n",
    "    total_correct += preds.argmax(dim=1).eq(labels).sum().item()\n",
    "\n",
    "print('Accuracy:',total_correct/10000,'\\n')\n",
    "\n",
    "\n"
   ]
  },
  {
   "cell_type": "code",
   "execution_count": null,
   "metadata": {},
   "outputs": [],
   "source": []
  },
  {
   "cell_type": "code",
   "execution_count": null,
   "metadata": {},
   "outputs": [],
   "source": []
  },
  {
   "cell_type": "code",
   "execution_count": null,
   "metadata": {},
   "outputs": [],
   "source": []
  },
  {
   "cell_type": "code",
   "execution_count": null,
   "metadata": {},
   "outputs": [],
   "source": []
  },
  {
   "cell_type": "code",
   "execution_count": null,
   "metadata": {},
   "outputs": [],
   "source": []
  },
  {
   "cell_type": "code",
   "execution_count": null,
   "metadata": {},
   "outputs": [],
   "source": []
  }
 ],
 "metadata": {
  "kernelspec": {
   "display_name": "Python 3",
   "language": "python",
   "name": "python3"
  },
  "language_info": {
   "codemirror_mode": {
    "name": "ipython",
    "version": 3
   },
   "file_extension": ".py",
   "mimetype": "text/x-python",
   "name": "python",
   "nbconvert_exporter": "python",
   "pygments_lexer": "ipython3",
   "version": "3.7.3"
  }
 },
 "nbformat": 4,
 "nbformat_minor": 2
}
