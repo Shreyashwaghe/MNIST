{
 "cells": [
  {
   "cell_type": "code",
   "execution_count": 5,
   "metadata": {},
   "outputs": [],
   "source": [
    "import torch\n",
    "import torch.nn as nn\n",
    "import torch.nn.functional as F\n",
    "import torch.optim as optim\n",
    "\n",
    "import torchvision\n",
    "import torchvision.transforms as transforms\n",
    "\n",
    "import pandas as pd\n",
    "import matplotlib.pyplot as plt"
   ]
  },
  {
   "cell_type": "code",
   "execution_count": 6,
   "metadata": {},
   "outputs": [],
   "source": [
    "#load training data\n",
    "\n",
    "train_set = torchvision.datasets.MNIST(\n",
    "    root='./Data',\n",
    "    train=True,\n",
    "    download=True,\n",
    "    transform=transforms.Compose([transforms.ToTensor()])\n",
    ")\n"
   ]
  },
  {
   "cell_type": "code",
   "execution_count": 7,
   "metadata": {},
   "outputs": [],
   "source": [
    "#defining model sstructure\n",
    "\n",
    "class Network(nn.Module):\n",
    "    \n",
    "    def __init__(self):\n",
    "        super(Network, self).__init__()\n",
    "        self.conv1 = nn.Conv2d(in_channels=1, out_channels=32, kernel_size=5, stride=1, padding = 0)\n",
    "        self.conv2 = nn.Conv2d(32, 64, 5)\n",
    "        \n",
    "        self.fc1 = nn.Linear(64 * 4 * 4, 120)\n",
    "        self.fc2 = nn.Linear(120, 60)\n",
    "        self.fc3 = nn.Linear(60, 10)\n",
    "        \n",
    "    def forward(self, x):\n",
    "        \n",
    "        x = self.conv1(x)\n",
    "        x = F.relu(x)\n",
    "        x = F.max_pool2d(x, kernel_size=2, stride=2)\n",
    "        \n",
    "        x = self.conv2(x)\n",
    "        x = F.relu(x)\n",
    "        x = F.max_pool2d(x,kernel_size=2, stride=2)\n",
    "        \n",
    "        \n",
    "        x = x.view(-1, 64 * 4 * 4)\n",
    "        \n",
    "        x = self.fc1(x)\n",
    "        x = F.relu(x)\n",
    "        \n",
    "        x = self.fc2(x)\n",
    "        x = F.relu(x)\n",
    "        \n",
    "        x = self.fc3(x)\n",
    "        #x = F.softmax(x, dim=1)   #not needed as the cost function itself does one-hot encoding\n",
    "        \n",
    "        return x\n",
    "    \n",
    "net = Network()"
   ]
  },
  {
   "cell_type": "code",
   "execution_count": 8,
   "metadata": {},
   "outputs": [
    {
     "name": "stdout",
     "output_type": "stream",
     "text": [
      "\n",
      " epoch: 0 total correct: 56757 cost: 104.01792530830426\n",
      "Accuracy: 0.94595 \n",
      "\n",
      "\n",
      " epoch: 1 total correct: 58734 cost: 44.89501142653171\n",
      "Accuracy: 0.9789 \n",
      "\n",
      "\n",
      " epoch: 2 total correct: 58928 cost: 37.444684726559444\n",
      "Accuracy: 0.9821333333333333 \n",
      "\n",
      "\n",
      " epoch: 3 total correct: 59018 cost: 35.59328624102818\n",
      "Accuracy: 0.9836333333333334 \n",
      "\n",
      "\n",
      " epoch: 4 total correct: 59104 cost: 34.534283917666016\n",
      "Accuracy: 0.9850666666666666 \n",
      "\n",
      "\n",
      " epoch: 5 total correct: 59178 cost: 32.05556681052258\n",
      "Accuracy: 0.9863 \n",
      "\n",
      "\n",
      " epoch: 6 total correct: 59277 cost: 29.58067970093998\n",
      "Accuracy: 0.98795 \n",
      "\n",
      "\n",
      " epoch: 7 total correct: 59261 cost: 31.99109859935561\n",
      "Accuracy: 0.9876833333333334 \n",
      "\n",
      "\n",
      " epoch: 8 total correct: 59325 cost: 29.683872553701804\n",
      "Accuracy: 0.98875 \n",
      "\n",
      "\n",
      " epoch: 9 total correct: 59418 cost: 25.71884663555693\n",
      "Accuracy: 0.9903 \n",
      "\n"
     ]
    },
    {
     "data": {
      "image/png": "[encoded data removed]",
      "text/plain": [
       "<Figure size 432x288 with 1 Axes>"
      ]
     },
     "metadata": {
      "needs_background": "light"
     },
     "output_type": "display_data"
    },
    {
     "data": {
      "image/png": "[encoded data removed]",
      "text/plain": [
       "<Figure size 432x288 with 1 Axes>"
      ]
     },
     "metadata": {
      "needs_background": "light"
     },
     "output_type": "display_data"
    }
   ],
   "source": [
    "Learning_rate =0.01\n",
    "\n",
    "#making training batches\n",
    "train_loader = torch.utils.data.DataLoader(train_set, batch_size=100)\n",
    "#Using Adam potimizer\n",
    "optimizer = optim.Adam(net.parameters(), lr=Learning_rate)\n",
    "costs=[]\n",
    "accuracies=[]\n",
    "\n",
    "for epoch in range(10): #number of epoch\n",
    "    \n",
    "    total_cost = 0         #total cost of one full epoch\n",
    "    total_correct = 0      #total correct predictions in one full epoch\n",
    "    \n",
    "    for batch in train_loader:\n",
    "    \n",
    "        images, labels = batch    #images is input, labels is the expected output\n",
    "        \n",
    "        #predicts output taking batch of images as input by using the model Network defined above \n",
    "        preds = net(images)       \n",
    "        \n",
    "        #calculates cost of individual batch\n",
    "        cost = F.cross_entropy(preds,labels)\n",
    "        \n",
    "        \n",
    "        #print('iter:',epoch,'batch:',batch_count,'cost:',cost)\n",
    "        \n",
    "        optimizer.zero_grad()    #empty the gradients\n",
    "        cost.backward()          #calculates gradients\n",
    "        optimizer.step()         #updates parameters\n",
    "        \n",
    "        #for calculating total cost in one epoch\n",
    "        total_cost += cost.item()\n",
    "        \n",
    "        #for calculating total correct predictions in one epoch\n",
    "        total_correct += preds.argmax(dim=1).eq(labels).sum().item()\n",
    "        #print('\\n\\n pred',preds.argmax(dim =1),'label', labels)\n",
    "        \n",
    "    print('\\n epoch:',epoch,'total correct:',total_correct,'cost:',total_cost)\n",
    "    print('Accuracy:',total_correct/60000,'\\n')\n",
    "    costs.append(total_cost)\n",
    "    accuracies.append(total_correct/60000)\n",
    "    \n",
    "#plotting the cost and accuracies\n",
    "\n",
    "plt.plot(costs)\n",
    "plt.ylabel('total cost')\n",
    "plt.xlabel('iterations')\n",
    "plt.title(\"Learning rate =\" + str(Learning_rate))\n",
    "plt.show()\n",
    "\n",
    "plt.plot(accuracies)\n",
    "plt.ylabel('accuracy')\n",
    "plt.xlabel('iterations')\n",
    "plt.title(\"Learning rate =\" + str(Learning_rate))\n",
    "plt.show()"
   ]
  },
  {
   "cell_type": "code",
   "execution_count": null,
   "metadata": {},
   "outputs": [],
   "source": []
  },
  {
   "cell_type": "code",
   "execution_count": null,
   "metadata": {},
   "outputs": [],
   "source": []
  },
  {
   "cell_type": "code",
   "execution_count": null,
   "metadata": {},
   "outputs": [],
   "source": []
  },
  {
   "cell_type": "code",
   "execution_count": 5,
   "metadata": {},
   "outputs": [
    {
     "name": "stderr",
     "output_type": "stream",
     "text": [
      "/home/shreyash/anaconda3/lib/python3.7/site-packages/torch/serialization.py:256: UserWarning: Couldn't retrieve source code for container of type Network. It won't be checked for correctness upon loading.\n",
      "  \"type \" + obj.__name__ + \". It won't be checked \"\n"
     ]
    }
   ],
   "source": [
    "#use this to save the model and its parameters a file\n",
    "#ignore warning, if any\n",
    "\n",
    "torch.save(net,'./trained_mnist_model_CNN.pth' )\n"
   ]
  },
  {
   "cell_type": "code",
   "execution_count": 6,
   "metadata": {},
   "outputs": [],
   "source": [
    "#load test set\n",
    "test_set = torchvision.datasets.MNIST(\n",
    "    root='./Data',\n",
    "    train=False,\n",
    "    download=True,\n",
    "    transform=transforms.Compose([transforms.ToTensor()])\n",
    ")\n"
   ]
  },
  {
   "cell_type": "code",
   "execution_count": 7,
   "metadata": {},
   "outputs": [
    {
     "data": {
      "text/plain": [
       "Network(\n",
       "  (conv1): Conv2d(1, 32, kernel_size=(5, 5), stride=(1, 1))\n",
       "  (conv2): Conv2d(32, 64, kernel_size=(5, 5), stride=(1, 1))\n",
       "  (fc1): Linear(in_features=1024, out_features=120, bias=True)\n",
       "  (fc2): Linear(in_features=120, out_features=60, bias=True)\n",
       "  (fc3): Linear(in_features=60, out_features=10, bias=True)\n",
       ")"
      ]
     },
     "execution_count": 7,
     "metadata": {},
     "output_type": "execute_result"
    }
   ],
   "source": [
    "#load the learned model\n",
    "net_test = torch.load('trained_mnist_model_CNN.pth')\n",
    "net_test.eval()"
   ]
  },
  {
   "cell_type": "code",
   "execution_count": 8,
   "metadata": {},
   "outputs": [
    {
     "name": "stdout",
     "output_type": "stream",
     "text": [
      "Accuracy: 0.9758 \n",
      "\n"
     ]
    }
   ],
   "source": [
    "#load a batch of test cases\n",
    "test_loader = torch.utils.data.DataLoader(test_set, batch_size=100)\n",
    "total_correct = 0\n",
    "\n",
    "for batch in test_loader:   #iterating over batches\n",
    "    \n",
    "    images, labels = batch\n",
    "    \n",
    "    preds = net_test(images.float())\n",
    "    total_correct += preds.argmax(dim=1).eq(labels).sum().item()\n",
    "\n",
    "print('Accuracy:',total_correct/10000,'\\n')\n",
    "\n",
    "\n"
   ]
  },
  {
   "cell_type": "code",
   "execution_count": null,
   "metadata": {},
   "outputs": [],
   "source": []
  },
  {
   "cell_type": "code",
   "execution_count": null,
   "metadata": {},
   "outputs": [],
   "source": []
  },
  {
   "cell_type": "code",
   "execution_count": null,
   "metadata": {},
   "outputs": [],
   "source": []
  },
  {
   "cell_type": "code",
   "execution_count": null,
   "metadata": {},
   "outputs": [],
   "source": []
  },
  {
   "cell_type": "code",
   "execution_count": null,
   "metadata": {},
   "outputs": [],
   "source": []
  },
  {
   "cell_type": "code",
   "execution_count": null,
   "metadata": {},
   "outputs": [],
   "source": []
  }
 ],
 "metadata": {
  "kernelspec": {
   "display_name": "Python 3",
   "language": "python",
   "name": "python3"
  },
  "language_info": {
   "codemirror_mode": {
    "name": "ipython",
    "version": 3
   },
   "file_extension": ".py",
   "mimetype": "text/x-python",
   "name": "python",
   "nbconvert_exporter": "python",
   "pygments_lexer": "ipython3",
   "version": "3.7.3"
  }
 },
 "nbformat": 4,
 "nbformat_minor": 2
}
