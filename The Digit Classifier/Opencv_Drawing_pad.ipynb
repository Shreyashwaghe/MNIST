{
 "cells": [
  {
   "cell_type": "code",
   "execution_count": 5,
   "metadata": {},
   "outputs": [
    {
     "data": {
      "text/plain": [
       "['/home/shreyash/Desktop/Opencv',\n",
       " '',\n",
       " '/opt/ros/kinetic/lib/python2.7/dist-packages',\n",
       " '/home/shreyash/anaconda3/lib/python37.zip',\n",
       " '/home/shreyash/anaconda3/lib/python3.7',\n",
       " '/home/shreyash/anaconda3/lib/python3.7/lib-dynload',\n",
       " '/home/shreyash/anaconda3/lib/python3.7/site-packages',\n",
       " '/home/shreyash/anaconda3/lib/python3.7/site-packages/IPython/extensions',\n",
       " '/home/shreyash/.ipython']"
      ]
     },
     "execution_count": 5,
     "metadata": {},
     "output_type": "execute_result"
    }
   ],
   "source": [
    "import os\n",
    "os.sys.path\n",
    "\n",
    "#import cv2\n",
    "#import numpy as np"
   ]
  },
  {
   "cell_type": "code",
   "execution_count": null,
   "metadata": {},
   "outputs": [],
   "source": [
    "#enables the different 'events' associated with the mouse\n",
    "events = [i for i in dir(cv2) if 'EVENT' in i]\n",
    "#print (events)"
   ]
  },
  {
   "cell_type": "code",
   "execution_count": null,
   "metadata": {},
   "outputs": [],
   "source": [
    "def draw_figure(event,x,y,flags,param):\n",
    "    \n",
    "    global draw\n",
    "    global prev_point\n",
    "    if event == cv2.EVENT_LBUTTONDOWN:     #left click pressed in\n",
    "        draw = True\n",
    "    elif event == cv2.EVENT_MOUSEMOVE:     #mouse movement,present location in x,y\n",
    "        if draw == True and prev_point != None:\n",
    "                cv2.line(draw_pad,prev_point, (x,y),(255),10)  #draws line joining prev_point to point\n",
    "        prev_point = (x,y)\n",
    "    elif event == cv2.EVENT_LBUTTONUP:    #left click released\n",
    "        draw = False"
   ]
  },
  {
   "cell_type": "code",
   "execution_count": null,
   "metadata": {},
   "outputs": [],
   "source": [
    "#initialize the drawing window\n",
    "draw_pad = np.zeros((280,280))\n",
    "#naming the window\n",
    "cv2.namedWindow('image')\n",
    "#linking mouse events to the window\n",
    "cv2.setMouseCallback('image',draw_figure)\n",
    "prev_point = None"
   ]
  },
  {
   "cell_type": "code",
   "execution_count": null,
   "metadata": {},
   "outputs": [],
   "source": [
    "draw = False\n",
    "while(1):\n",
    "    cv2.imshow('image', draw_pad)\n",
    "    if cv2.waitKey(20) & 0xFF == 13:  # ascii(enter key) = 13, press enter key to quit\n",
    "        break\n",
    "#print(img)\n",
    "cv2.destroyAllWindows()\n",
    "\n",
    "#print(img.shape)"
   ]
  },
  {
   "cell_type": "code",
   "execution_count": null,
   "metadata": {},
   "outputs": [],
   "source": [
    "#creates a png image of the drawn figure\n",
    "cv2.imwrite('figure_drawn.png',draw_pad)"
   ]
  },
  {
   "cell_type": "code",
   "execution_count": null,
   "metadata": {},
   "outputs": [],
   "source": []
  },
  {
   "cell_type": "code",
   "execution_count": null,
   "metadata": {},
   "outputs": [],
   "source": []
  },
  {
   "cell_type": "code",
   "execution_count": null,
   "metadata": {},
   "outputs": [],
   "source": []
  },
  {
   "cell_type": "code",
   "execution_count": null,
   "metadata": {},
   "outputs": [],
   "source": []
  },
  {
   "cell_type": "code",
   "execution_count": null,
   "metadata": {},
   "outputs": [],
   "source": []
  },
  {
   "cell_type": "code",
   "execution_count": null,
   "metadata": {},
   "outputs": [],
   "source": []
  }
 ],
 "metadata": {
  "kernelspec": {
   "display_name": "Python 3",
   "language": "python",
   "name": "python3"
  },
  "language_info": {
   "codemirror_mode": {
    "name": "ipython",
    "version": 3
   },
   "file_extension": ".py",
   "mimetype": "text/x-python",
   "name": "python",
   "nbconvert_exporter": "python",
   "pygments_lexer": "ipython3",
   "version": "3.7.3"
  }
 },
 "nbformat": 4,
 "nbformat_minor": 2
}
