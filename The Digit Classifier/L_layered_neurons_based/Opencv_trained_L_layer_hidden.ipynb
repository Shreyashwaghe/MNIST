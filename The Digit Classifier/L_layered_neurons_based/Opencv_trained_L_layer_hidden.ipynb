{
 "cells": [
  {
   "cell_type": "code",
   "execution_count": 1,
   "metadata": {},
   "outputs": [],
   "source": [
    "import cv2\n",
    "import numpy as np\n",
    "import warnings\n",
    "warnings.filterwarnings('ignore')"
   ]
  },
  {
   "cell_type": "code",
   "execution_count": 2,
   "metadata": {},
   "outputs": [],
   "source": [
    "# Opencv Drawing pad to get input images \n",
    "#Same as the opencv drawing pad"
   ]
  },
  {
   "cell_type": "code",
   "execution_count": 3,
   "metadata": {},
   "outputs": [],
   "source": [
    "events = [i for i in dir(cv2) if 'EVENT' in i]\n",
    "#print (events)"
   ]
  },
  {
   "cell_type": "code",
   "execution_count": 4,
   "metadata": {},
   "outputs": [],
   "source": [
    "def draw_number(event,x,y,flags,param):\n",
    "    \n",
    "    global draw\n",
    "    global prev_point\n",
    "    if event == cv2.EVENT_LBUTTONDOWN:     #left click pressed in\n",
    "        draw = True\n",
    "    elif event == cv2.EVENT_MOUSEMOVE:     #mouse movement,present location in x,y\n",
    "        if draw == True and prev_point != None:\n",
    "                cv2.line(draw_pad,prev_point, (x,y),(255),10)  #draws line joining prev_point to point\n",
    "        prev_point = (x,y)\n",
    "    elif event == cv2.EVENT_LBUTTONUP:    #left click released\n",
    "        draw = False"
   ]
  },
  {
   "cell_type": "code",
   "execution_count": 5,
   "metadata": {},
   "outputs": [],
   "source": [
    "draw_pad = np.zeros((512,512))\n",
    "cv2.namedWindow('image')\n",
    "cv2.setMouseCallback('image',draw_number)\n",
    "prev_point = None"
   ]
  },
  {
   "cell_type": "code",
   "execution_count": 6,
   "metadata": {},
   "outputs": [],
   "source": [
    "draw = False\n",
    "while(1):\n",
    "    cv2.imshow('image', draw_pad)\n",
    "    if cv2.waitKey(20) & 0xFF == 13:  # ascii(enter key) = 13, press enter key to quit\n",
    "        break\n",
    "\n",
    "cv2.destroyAllWindows()\n",
    "\n",
    "#print(draw_pad)"
   ]
  },
  {
   "cell_type": "code",
   "execution_count": 7,
   "metadata": {},
   "outputs": [],
   "source": [
    "# Converting the input image to MNIST image\n",
    "#Image Preprocessing starts"
   ]
  },
  {
   "cell_type": "code",
   "execution_count": 8,
   "metadata": {},
   "outputs": [],
   "source": [
    "#crops the image ,removing the excess the drawpad area at the edges\n",
    "def crop_image(img):\n",
    "    for i in range(0,img.shape[0]):\n",
    "        flag_up = np.any(img[i,:])\n",
    "    \n",
    "        if flag_up == True:\n",
    "            up = i\n",
    "            break\n",
    "\n",
    "    for i in reversed(range(0,img.shape[0])):\n",
    "        flag_down = np.any(img[i,:])\n",
    "    \n",
    "        if flag_down == True:\n",
    "            down = i\n",
    "            break\n",
    "        \n",
    "    for i in range(0,img.shape[1]):\n",
    "        flag_left = np.any(img[:,i])\n",
    "    \n",
    "        if flag_left == True:\n",
    "            left = i\n",
    "            break\n",
    "\n",
    "    for i in reversed(range(0,img.shape[1])):\n",
    "        flag_right = np.any(img[:,i])\n",
    "    \n",
    "        if flag_right == True:\n",
    "            right = i\n",
    "            break\n",
    "        \n",
    "    crop = img[up:down,left:right]\n",
    "\n",
    "    height = down - up\n",
    "    width = right - left\n",
    "    #cv2.imwrite('2crop.png',crop)\n",
    "    return crop,height,width\n",
    "\n",
    "#resizes image like a MNIST image\n",
    "def resize_image(img,height,width):\n",
    "\n",
    "    aspect_ratio = float(height/width)\n",
    "    #type(img)\n",
    "    \n",
    "    if height > width:\n",
    "        new_width = int(round(20 / aspect_ratio, 0))  #rounding off width with 0 decimal places,ie nearest int\n",
    "        if (new_width == 0):  # rare case but minimum should be 1 pixel\n",
    "            new_width = 1\n",
    "\n",
    "        dim = (new_width, 20)   #image resized to fit in 20*20 box maintaining the aspect ratio\n",
    "        im = cv2.resize(img, dim)\n",
    "        #cv2.imwrite('3mini.png',im)\n",
    "        wleft = 28 - new_width  # calculate vertical pozition\n",
    "        #resizing to 28*28\n",
    "        \n",
    "        if wleft % 2 == 0:\n",
    "            #adding extra pixels line after the edges to convert image to 28*28\n",
    "            #equal lines added to width from top and bottom\n",
    "            newImage = cv2.copyMakeBorder(im,4,4,int(wleft/2),int(wleft/2), borderType= cv2.BORDER_CONSTANT, value=0)\n",
    "            \n",
    "        else:\n",
    "            #adding extra pixels line after the edges to convert image to 28*28\n",
    "            # UN-equal lines added to width from top and bottom\n",
    "            newImage = cv2.copyMakeBorder(im, 4, 4, int(round((wleft-1)/2, 0)), int(round((wleft-1)/2, 0)) +1, borderType= cv2.BORDER_CONSTANT, value=0)\n",
    "            \n",
    "    elif width > height:\n",
    "        \n",
    "        new_height = int(round(20 * aspect_ratio, 0))  # rounding off width with 0 decimal places,ie nearest int\n",
    "        if (new_height == 0):  # rare case but minimum is 1 pixel\n",
    "            new_height = 1\n",
    "               \n",
    "        dim = (20, new_height)   #image resized to fit in 20*20 box maintaining the aspect ratio\n",
    "        im = cv2.resize(img, dim)\n",
    "        #cv2.imwrite('3mini.png',im)\n",
    "        hleft = 28 - new_height  # calculate vertical pozition\n",
    "        \n",
    "        if hleft % 2 == 0:\n",
    "            newImage = cv2.copyMakeBorder(im, int(hleft/2), int(hleft/2), 4, 4, borderType= cv2.BORDER_CONSTANT, value=0)\n",
    "        else:\n",
    "            newImage = cv2.copyMakeBorder(im, int(round((hleft-1)/2, 0)), int(round((hleft-1)/2, 0)) +1, 4, 4, borderType= cv2.BORDER_CONSTANT, value=0)\n",
    "            \n",
    "    else: #the cases where cropped image is a square\n",
    "        dim = (20,20)\n",
    "        im=cv2.resize(img,dim)\n",
    "        #cv2.imwrite('3mini.png',im)\n",
    "        newImage = cv2.copyMakeBorder(im, 4, 4, 4, 4, borderType= cv2.BORDER_CONSTANT, value=0)\n",
    "        \n",
    "    #cv2.imwrite('4Preprocessed_image.png',newImage)\n",
    "    return newImage\n",
    "\n",
    "\n",
    "#function to combine cropping and resizing\n",
    "#Complete MNIST Image Preprocessing\n",
    "def preprocess(img):\n",
    "    cropped_image, h, w = crop_image(img)\n",
    "    #print(cropped_image.shape,type(cropped_image))\n",
    "    Final_image =resize_image(cropped_image, h, w)\n",
    "    \n",
    "    return Final_image"
   ]
  },
  {
   "cell_type": "code",
   "execution_count": 9,
   "metadata": {},
   "outputs": [],
   "source": [
    "Preprocessed_image = preprocess(draw_pad)"
   ]
  },
  {
   "cell_type": "code",
   "execution_count": 10,
   "metadata": {},
   "outputs": [],
   "source": [
    "# L layer hidden network \n",
    "# Digit Recognition process starts"
   ]
  },
  {
   "cell_type": "code",
   "execution_count": 11,
   "metadata": {},
   "outputs": [],
   "source": [
    "#initialize dict to store parameters\n",
    "\n",
    "W=dict()\n",
    "b=dict()\n",
    "A=dict()\n",
    "Z=dict()\n",
    "\n",
    "#initializing/loading weights and biases from the files\n",
    "W = np.load('W_weights.npy').item()\n",
    "b = np.load('b_bias.npy').item()"
   ]
  },
  {
   "cell_type": "code",
   "execution_count": 12,
   "metadata": {},
   "outputs": [],
   "source": [
    "#img = cv2.imread(Final_image,0)  # opens image in greyscale, use 1 for rgb\n",
    "\n",
    "img = Preprocessed_image\n",
    "#cv2.imwrite('preprocessed_image.png')"
   ]
  },
  {
   "cell_type": "code",
   "execution_count": 13,
   "metadata": {},
   "outputs": [],
   "source": [
    "# converts image of 28*28 ,2D array to 784*1 ,1D array\n",
    "data = np.asarray(img) \n",
    "data = data.reshape(784,1)\n",
    "#print(data)\n",
    "#print(data.shape)\n",
    "#type(data)\n"
   ]
  },
  {
   "cell_type": "code",
   "execution_count": 14,
   "metadata": {},
   "outputs": [
    {
     "name": "stdout",
     "output_type": "stream",
     "text": [
      "The number should be 1\n"
     ]
    }
   ],
   "source": [
    "#Using the saved model to get the latest(best) parameter values for drawn test case\n",
    "\n",
    "layers_dims = [784, 150, 10]      #should be same as the trained model\n",
    "L=len(layers_dims)-1\n",
    "m=data.shape[1]\n",
    "A[0] = data\n",
    "for i in range (1,L):\n",
    "    Z[i] = np.matmul(W[i], A[i-1]) + b[i]\n",
    "    A[i] = np.maximum(0,Z[i])     # relu(Z[i])\n",
    "    \n",
    "Z[L] = np.matmul(W[L], A[L-1]) + b[L]\n",
    "A[L] = np.exp(Z[L]) / np.sum(np.exp(Z[L]), axis=0)\n",
    "\n",
    "predictions = int(np.argmax(A[L], axis=0))\n",
    "print('The number should be',predictions)\n",
    "#print(A[L])\n"
   ]
  },
  {
   "cell_type": "code",
   "execution_count": null,
   "metadata": {},
   "outputs": [],
   "source": []
  },
  {
   "cell_type": "code",
   "execution_count": null,
   "metadata": {},
   "outputs": [],
   "source": []
  },
  {
   "cell_type": "code",
   "execution_count": null,
   "metadata": {},
   "outputs": [],
   "source": []
  }
 ],
 "metadata": {
  "kernelspec": {
   "display_name": "Python 3",
   "language": "python",
   "name": "python3"
  },
  "language_info": {
   "codemirror_mode": {
    "name": "ipython",
    "version": 3
   },
   "file_extension": ".py",
   "mimetype": "text/x-python",
   "name": "python",
   "nbconvert_exporter": "python",
   "pygments_lexer": "ipython3",
   "version": "3.7.3"
  }
 },
 "nbformat": 4,
 "nbformat_minor": 2
}
